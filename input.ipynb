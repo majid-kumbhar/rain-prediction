{
 "cells": [
  {
   "cell_type": "code",
   "execution_count": 16,
   "metadata": {},
   "outputs": [],
   "source": [
    "import pickle \n",
    "with open('./model.pkl','rb') as f :\n",
    "    model=pickle.load(f)"
   ]
  },
  {
   "cell_type": "code",
   "execution_count": 17,
   "metadata": {},
   "outputs": [],
   "source": [
    "def get_loc_num(text):\n",
    "     \n",
    "    data={\n",
    "            'new york': 11,\n",
    "            'los angeles': 10,\n",
    "            'chicago': 2,\n",
    "            'houston': 7,\n",
    "            'phoenix': 13,\n",
    "            'philadelphia': 12,\n",
    "            'san antonio': 14,\n",
    "            'san diego': 15,\n",
    "            'dallas': 4,\n",
    "            'san jose': 17,\n",
    "            'austin': 0,\n",
    "            'jacksonville': 9,\n",
    "            'fort worth': 6,\n",
    "            'columbus': 3,\n",
    "            'indianapolis': 8,\n",
    "            'charlotte': 1,\n",
    "            'san francisco': 16,\n",
    "            'seattle': 18,\n",
    "            'denver': 5,\n",
    "            'washington dc': 19\n",
    "            }\n",
    "    return data[text.lower()]"
   ]
  },
  {
   "cell_type": "code",
   "execution_count": 18,
   "metadata": {},
   "outputs": [
    {
     "name": "stdout",
     "output_type": "stream",
     "text": [
      "There is no Chances of Rain Tomorrow\n"
     ]
    },
    {
     "name": "stderr",
     "output_type": "stream",
     "text": [
      "/home/abdul-majid/.local/lib/python3.10/site-packages/sklearn/base.py:493: UserWarning: X does not have valid feature names, but RandomForestClassifier was fitted with feature names\n",
      "  warnings.warn(\n"
     ]
    }
   ],
   "source": [
    "predict_value=model.predict([[11,50,60,4,0,0,30.17]])[0]\n",
    "if predict_value >0:\n",
    "    print(\"There are Chances of Rain Tomorrow\")\n",
    "else :\n",
    "    print(\"There is no Chances of Rain Tomorrow\")"
   ]
  },
  {
   "cell_type": "code",
   "execution_count": 19,
   "metadata": {},
   "outputs": [],
   "source": [
    "def predict_value(location, temperature, humidity, wind_speed, precipitation,cloud_cover, pressure):\n",
    "    location=get_loc_num(location)\n",
    "    predict_value=model.predict([[location, temperature, humidity, wind_speed, precipitation,cloud_cover, pressure]])[0]\n",
    "    return predict_value"
   ]
  },
  {
   "cell_type": "code",
   "execution_count": 20,
   "metadata": {},
   "outputs": [
    {
     "name": "stderr",
     "output_type": "stream",
     "text": [
      "/home/abdul-majid/.local/lib/python3.10/site-packages/sklearn/base.py:493: UserWarning: X does not have valid feature names, but RandomForestClassifier was fitted with feature names\n",
      "  warnings.warn(\n"
     ]
    },
    {
     "data": {
      "text/plain": [
       "0"
      ]
     },
     "execution_count": 20,
     "metadata": {},
     "output_type": "execute_result"
    }
   ],
   "source": [
    "predict_value('philadelphia',40,60,40,0,3,30.17)"
   ]
  },
  {
   "cell_type": "code",
   "execution_count": 21,
   "metadata": {},
   "outputs": [
    {
     "name": "stderr",
     "output_type": "stream",
     "text": [
      "/home/abdul-majid/.local/lib/python3.10/site-packages/sklearn/base.py:493: UserWarning: X does not have valid feature names, but RandomForestClassifier was fitted with feature names\n",
      "  warnings.warn(\n"
     ]
    },
    {
     "data": {
      "text/plain": [
       "1"
      ]
     },
     "execution_count": 21,
     "metadata": {},
     "output_type": "execute_result"
    }
   ],
   "source": [
    "'fort worth',89.356001\t,73.471238\t,15.746611,\t1.443428,\t48.788283,\t971.823894\n",
    "\n",
    "\n",
    "predict_value('fort worth',89.356001\t,73.471238\t,15.746611,\t1.443428,\t48.788283,\t971.823894)"
   ]
  },
  {
   "cell_type": "code",
   "execution_count": 22,
   "metadata": {},
   "outputs": [
    {
     "data": {
      "text/plain": [
       "dict_keys(['new york', 'los angeles', 'chicago', 'houston', 'phoenix', 'philadelphia', 'san antonio', 'san diego', 'dallas', 'san jose', 'austin', 'jacksonville', 'fort worth', 'columbus', 'indianapolis', 'charlotte', 'san francisco', 'seattle', 'denver', 'washington dc'])"
      ]
     },
     "execution_count": 22,
     "metadata": {},
     "output_type": "execute_result"
    }
   ],
   "source": [
    "data={\n",
    "            'new york': 11,\n",
    "            'los angeles': 10,\n",
    "            'chicago': 2,\n",
    "            'houston': 7,\n",
    "            'phoenix': 13,\n",
    "            'philadelphia': 12,\n",
    "            'san antonio': 14,\n",
    "            'san diego': 15,\n",
    "            'dallas': 4,\n",
    "            'san jose': 17,\n",
    "            'austin': 0,\n",
    "            'jacksonville': 9,\n",
    "            'fort worth': 6,\n",
    "            'columbus': 3,\n",
    "            'indianapolis': 8,\n",
    "            'charlotte': 1,\n",
    "            'san francisco': 16,\n",
    "            'seattle': 18,\n",
    "            'denver': 5,\n",
    "            'washington dc': 19\n",
    "            }\n",
    "data.keys()"
   ]
  },
  {
   "cell_type": "code",
   "execution_count": null,
   "metadata": {},
   "outputs": [],
   "source": []
  },
  {
   "cell_type": "code",
   "execution_count": null,
   "metadata": {},
   "outputs": [],
   "source": []
  },
  {
   "cell_type": "code",
   "execution_count": null,
   "metadata": {},
   "outputs": [],
   "source": []
  },
  {
   "cell_type": "code",
   "execution_count": null,
   "metadata": {},
   "outputs": [],
   "source": []
  }
 ],
 "metadata": {
  "kernelspec": {
   "display_name": "Python 3",
   "language": "python",
   "name": "python3"
  },
  "language_info": {
   "codemirror_mode": {
    "name": "ipython",
    "version": 3
   },
   "file_extension": ".py",
   "mimetype": "text/x-python",
   "name": "python",
   "nbconvert_exporter": "python",
   "pygments_lexer": "ipython3",
   "version": "3.10.12"
  }
 },
 "nbformat": 4,
 "nbformat_minor": 2
}
